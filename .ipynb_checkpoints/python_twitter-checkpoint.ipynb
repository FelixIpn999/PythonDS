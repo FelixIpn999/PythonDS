{
 "cells": [
  {
   "cell_type": "code",
   "execution_count": null,
   "metadata": {
    "collapsed": true
   },
   "outputs": [],
   "source": [
    "import twitter\n",
    "CONSUMER_KEY = 'xgAnvfxgrEQPtDayyC4mwy5Kw'\n",
    "CONSUMER_SECRET = '00XjuE2sFP0WHycI7pWJ5FgUxDbTJJX8yfGieaJECl8P3nm8rN'\n",
    "OUATH_TOKEN = '423899151-dDL1vM6J3nfnGJghmqsPg6sNdmKlwhIB1gX7qpMo'\n",
    "OUATH_TOKEN_SECRET = 'cTCegnjH3otlxvvTdivzjnKsOWKp7uNmKaODoBWVdYzqH'\n",
    "\n",
    "auth = twitter.OAuth(OUATH_TOKEN,OUATH_TOKEN_SECRET,CONSUMER_KEY,CONSUMER_SECRET)\n",
    "\n",
    "twitter_api =twitter.Twitter(auth=auth)\n",
    "\n",
    "print (twitter_api)"
   ]
  }
 ],
 "metadata": {
  "kernelspec": {
   "display_name": "Python 3",
   "language": "python",
   "name": "python3"
  },
  "language_info": {
   "codemirror_mode": {
    "name": "ipython",
    "version": 3
   },
   "file_extension": ".py",
   "mimetype": "text/x-python",
   "name": "python",
   "nbconvert_exporter": "python",
   "pygments_lexer": "ipython3",
   "version": "3.6.1"
  }
 },
 "nbformat": 4,
 "nbformat_minor": 1
}
