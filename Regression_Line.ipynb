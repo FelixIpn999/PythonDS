{
 "cells": [
  {
   "cell_type": "code",
   "execution_count": 28,
   "metadata": {},
   "outputs": [
    {
     "name": "stdout",
     "output_type": "stream",
     "text": [
      "      Year  Age   Tm  Pos  No.   G  GS  Cmp  Att   Yds\n",
      "0     2000   23  NWE  NaN   12   1   0    1    3     6\n",
      "1    2001*   24  NWE   QB   12  15  14  264  413  2843\n",
      "2     2002   25  NWE   QB   12  16  16  373  601  3764\n",
      "3     2003   26  NWE   QB   12  16  16  317  527  3620\n",
      "4    2004*   27  NWE   QB   12  16  16  288  474  3692\n",
      "5    2005*   28  NWE   QB   12  16  16  334  530  4110\n",
      "6     2006   29  NWE   QB   12  16  16  319  516  3529\n",
      "7   2007*+   30  NWE   QB   12  16  16  398  578  4806\n",
      "8     2008   31  NWE   qb   12   1   1    7   11    76\n",
      "9    2009*   32  NWE   QB   12  16  16  371  565  4398\n",
      "10  2010*+   33  NWE   QB   12  16  16  324  492  3900\n",
      "11   2011*   34  NWE   QB   12  16  16  401  611  5235\n",
      "12   2012*   35  NWE   QB   12  16  16  401  637  4827\n",
      "13   2013*   36  NWE   QB   12  16  16  380  628  4343\n",
      "14   2014*   37  NWE   QB   12  16  16  373  582  4109\n",
      "15   2015*   38  NWE   QB   12  16  16  402  624  4770\n",
      "16   2016*   39  NWE   QB   12  12  12  291  432  3554\n",
      "17    2017   40  NWE   QB   12  10  10  261  380  3146\n"
     ]
    }
   ],
   "source": [
    "import pandas as pd \n",
    "from sklearn import linear_model\n",
    "from sklearn.metrics import mean_squared_error, r2_score \n",
    "import numpy as np\n",
    "import matplotlib.pyplot as plt\n",
    "datafile ='BRADY.CSV'\n",
    "dataset = pd.read_csv(datafile)\n",
    "dataset.columns = [\"Year\",\"Age\",\"Tm\",\"Pos\",\"No.\",\"G\",\"GS\",\"QBrec\",\"Cmp\",\"Att\",\"Cmp%\",\"Yds\",\"TD\",\"TD%\",\"Int\", \"Int%\",\"Lng\",\"Y/A\", \"AY/A\",\"Y/C\",\"Y/G\",\"Rate\",\"QBR\",\"Sk\",\"Yds per sack\",\"NY/A\",\"ANY/A\",\"Sk%\",\"4QC\",\"GWD\",\"AV\"]\n",
    "del dataset['QBrec']\n",
    "del dataset['Cmp%']\n",
    "del dataset['Rate'] \n",
    "del dataset['Y/G']\n",
    "del dataset['QBR']\n",
    "del dataset['Sk'] \n",
    "del dataset['NY/A'] \n",
    "del dataset['ANY/A']\n",
    "del dataset['Sk%'] \n",
    "del dataset['Yds per sack']\n",
    "del dataset['Lng'] \n",
    "del dataset['Y/A']\n",
    "del dataset['AY/A']\n",
    "del dataset['Y/C'] \n",
    "del dataset['4QC'] \n",
    "del dataset['GWD']\n",
    "del dataset['AV']\n",
    "del dataset['TD']\n",
    "del dataset['TD%']\n",
    "del dataset['Int']\n",
    "del dataset['Int%']\n",
    "dataset[:-1] \n",
    "print(dataset)\n"
   ]
  },
  {
   "cell_type": "code",
   "execution_count": 29,
   "metadata": {},
   "outputs": [
    {
     "name": "stdout",
     "output_type": "stream",
     "text": [
      "[  3 413 601 527 474 530 516 578  11 565 492 611 637 628 582 624 432 380]\n",
      "[   6 2843 3764 3620 3692 4110 3529 4806   76 4398 3900 5235 4827 4343 4109\n",
      " 4770 3554 3146]\n"
     ]
    }
   ],
   "source": [
    "Attempts = dataset['Att'].values \n",
    "print (Attempts)\n",
    "att = np.array(Attempts)\n",
    "Yards = dataset['Yds'].values \n",
    "print(Yards)\n",
    "yds = np.array(Yards)\n"
   ]
  },
  {
   "cell_type": "code",
   "execution_count": 30,
   "metadata": {},
   "outputs": [
    {
     "name": "stdout",
     "output_type": "stream",
     "text": [
      "Coeficientes\n",
      "[ 7.43272724]\n"
     ]
    },
    {
     "data": {
      "image/png": "[encoded data removed]",
      "text/plain": [
       "<matplotlib.figure.Figure at 0x2b05ed06e48>"
      ]
     },
     "metadata": {},
     "output_type": "display_data"
    }
   ],
   "source": [
    "lm = linear_model.LinearRegression()\n",
    "lm.fit(att.reshape(-1,1),yds)\n",
    "\n",
    "yards_predict = lm.predict(att.reshape(-1,1))\n",
    "\n",
    "print(\"Coeficientes\")\n",
    "print(lm.coef_)\n",
    "plt.scatter(att,yds,color='black')\n",
    "plt.plot(att,yards_predict,color='blue')\n",
    "plt.xlabel(\"Attempts\")\n",
    "plt.ylabel(\"Yards\")\n",
    "plt.show()"
   ]
  }
 ],
 "metadata": {
  "kernelspec": {
   "display_name": "Python 3",
   "language": "python",
   "name": "python3"
  },
  "language_info": {
   "codemirror_mode": {
    "name": "ipython",
    "version": 3
   },
   "file_extension": ".py",
   "mimetype": "text/x-python",
   "name": "python",
   "nbconvert_exporter": "python",
   "pygments_lexer": "ipython3",
   "version": "3.6.1"
  }
 },
 "nbformat": 4,
 "nbformat_minor": 1
}
